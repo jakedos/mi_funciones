{
  "cells": [
    {
      "cell_type": "markdown",
      "metadata": {
        "id": "view-in-github",
        "colab_type": "text"
      },
      "source": [
        "<a href=\"https://colab.research.google.com/github/jakedos/funciones/blob/main/david_funciones.ipynb\" target=\"_parent\"><img src=\"https://colab.research.google.com/assets/colab-badge.svg\" alt=\"Open In Colab\"/></a>"
      ]
    },
    {
      "cell_type": "code",
      "execution_count": null,
      "metadata": {
        "colab": {
          "background_save": true
        },
        "id": "lXMRTwzWpQku"
      },
      "outputs": [],
      "source": [
        "def coprobar():\n",
        "  control = input(\"Ingresa un número: \")\n",
        "\n",
        "  if control.isdigit():  # Verifica si la entrada es un número entero\n",
        "      control = int(control)\n",
        "      return control\n",
        "  else:\n",
        "      print(\"La entrada no es una opcion valida.\")\n"
      ]
    }
  ],
  "metadata": {
    "colab": {
      "provenance": [],
      "authorship_tag": "ABX9TyMHEnX5Pw56cQqrXUmxfHIx",
      "include_colab_link": true
    },
    "kernelspec": {
      "display_name": "Python 3",
      "name": "python3"
    },
    "language_info": {
      "name": "python"
    }
  },
  "nbformat": 4,
  "nbformat_minor": 0
}